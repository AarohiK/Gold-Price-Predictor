{
 "cells": [
  {
   "cell_type": "markdown",
   "id": "2da1fa08",
   "metadata": {},
   "source": [
    "## Gold Price Predictor"
   ]
  },
  {
   "cell_type": "markdown",
   "id": "009bf762",
   "metadata": {},
   "source": [
    "##### Using Kaggle Dataset"
   ]
  },
  {
   "cell_type": "code",
   "execution_count": 1,
   "id": "09bc130b",
   "metadata": {},
   "outputs": [],
   "source": [
    "import pandas as pd\n",
    "import numpy as np\n",
    "import matplotlib.pyplot as plt\n",
    "import seaborn as sns\n",
    "from sklearn import metrics"
   ]
  },
  {
   "cell_type": "markdown",
   "id": "1b7837f7",
   "metadata": {},
   "source": [
    "### Collecting & Reading Data"
   ]
  },
  {
   "cell_type": "code",
   "execution_count": 2,
   "id": "58f66c04",
   "metadata": {},
   "outputs": [],
   "source": [
    "# loading csv data into pandas dataframe\n",
    "\n",
    "goldprice_data = pd.read_csv('./gld_price_data.csv')"
   ]
  },
  {
   "cell_type": "code",
   "execution_count": 3,
   "id": "881c31b1",
   "metadata": {},
   "outputs": [
    {
     "data": {
      "text/html": [
       "<div>\n",
       "<style scoped>\n",
       "    .dataframe tbody tr th:only-of-type {\n",
       "        vertical-align: middle;\n",
       "    }\n",
       "\n",
       "    .dataframe tbody tr th {\n",
       "        vertical-align: top;\n",
       "    }\n",
       "\n",
       "    .dataframe thead th {\n",
       "        text-align: right;\n",
       "    }\n",
       "</style>\n",
       "<table border=\"1\" class=\"dataframe\">\n",
       "  <thead>\n",
       "    <tr style=\"text-align: right;\">\n",
       "      <th></th>\n",
       "      <th>Date</th>\n",
       "      <th>SPX</th>\n",
       "      <th>GLD</th>\n",
       "      <th>USO</th>\n",
       "      <th>SLV</th>\n",
       "      <th>EUR/USD</th>\n",
       "    </tr>\n",
       "  </thead>\n",
       "  <tbody>\n",
       "    <tr>\n",
       "      <th>0</th>\n",
       "      <td>1/2/2008</td>\n",
       "      <td>1447.160034</td>\n",
       "      <td>84.860001</td>\n",
       "      <td>78.470001</td>\n",
       "      <td>15.180</td>\n",
       "      <td>1.471692</td>\n",
       "    </tr>\n",
       "    <tr>\n",
       "      <th>1</th>\n",
       "      <td>1/3/2008</td>\n",
       "      <td>1447.160034</td>\n",
       "      <td>85.570000</td>\n",
       "      <td>78.370003</td>\n",
       "      <td>15.285</td>\n",
       "      <td>1.474491</td>\n",
       "    </tr>\n",
       "    <tr>\n",
       "      <th>2</th>\n",
       "      <td>1/4/2008</td>\n",
       "      <td>1411.630005</td>\n",
       "      <td>85.129997</td>\n",
       "      <td>77.309998</td>\n",
       "      <td>15.167</td>\n",
       "      <td>1.475492</td>\n",
       "    </tr>\n",
       "    <tr>\n",
       "      <th>3</th>\n",
       "      <td>1/7/2008</td>\n",
       "      <td>1416.180054</td>\n",
       "      <td>84.769997</td>\n",
       "      <td>75.500000</td>\n",
       "      <td>15.053</td>\n",
       "      <td>1.468299</td>\n",
       "    </tr>\n",
       "    <tr>\n",
       "      <th>4</th>\n",
       "      <td>1/8/2008</td>\n",
       "      <td>1390.189941</td>\n",
       "      <td>86.779999</td>\n",
       "      <td>76.059998</td>\n",
       "      <td>15.590</td>\n",
       "      <td>1.557099</td>\n",
       "    </tr>\n",
       "  </tbody>\n",
       "</table>\n",
       "</div>"
      ],
      "text/plain": [
       "       Date          SPX        GLD        USO     SLV   EUR/USD\n",
       "0  1/2/2008  1447.160034  84.860001  78.470001  15.180  1.471692\n",
       "1  1/3/2008  1447.160034  85.570000  78.370003  15.285  1.474491\n",
       "2  1/4/2008  1411.630005  85.129997  77.309998  15.167  1.475492\n",
       "3  1/7/2008  1416.180054  84.769997  75.500000  15.053  1.468299\n",
       "4  1/8/2008  1390.189941  86.779999  76.059998  15.590  1.557099"
      ]
     },
     "execution_count": 3,
     "metadata": {},
     "output_type": "execute_result"
    }
   ],
   "source": [
    "# First 5 rows of data\n",
    "\n",
    "goldprice_data.head(5)"
   ]
  },
  {
   "cell_type": "code",
   "execution_count": 4,
   "id": "1782f269",
   "metadata": {},
   "outputs": [
    {
     "data": {
      "text/html": [
       "<div>\n",
       "<style scoped>\n",
       "    .dataframe tbody tr th:only-of-type {\n",
       "        vertical-align: middle;\n",
       "    }\n",
       "\n",
       "    .dataframe tbody tr th {\n",
       "        vertical-align: top;\n",
       "    }\n",
       "\n",
       "    .dataframe thead th {\n",
       "        text-align: right;\n",
       "    }\n",
       "</style>\n",
       "<table border=\"1\" class=\"dataframe\">\n",
       "  <thead>\n",
       "    <tr style=\"text-align: right;\">\n",
       "      <th></th>\n",
       "      <th>Date</th>\n",
       "      <th>SPX</th>\n",
       "      <th>GLD</th>\n",
       "      <th>USO</th>\n",
       "      <th>SLV</th>\n",
       "      <th>EUR/USD</th>\n",
       "    </tr>\n",
       "  </thead>\n",
       "  <tbody>\n",
       "    <tr>\n",
       "      <th>2285</th>\n",
       "      <td>5/8/2018</td>\n",
       "      <td>2671.919922</td>\n",
       "      <td>124.589996</td>\n",
       "      <td>14.0600</td>\n",
       "      <td>15.5100</td>\n",
       "      <td>1.186789</td>\n",
       "    </tr>\n",
       "    <tr>\n",
       "      <th>2286</th>\n",
       "      <td>5/9/2018</td>\n",
       "      <td>2697.790039</td>\n",
       "      <td>124.330002</td>\n",
       "      <td>14.3700</td>\n",
       "      <td>15.5300</td>\n",
       "      <td>1.184722</td>\n",
       "    </tr>\n",
       "    <tr>\n",
       "      <th>2287</th>\n",
       "      <td>5/10/2018</td>\n",
       "      <td>2723.070068</td>\n",
       "      <td>125.180000</td>\n",
       "      <td>14.4100</td>\n",
       "      <td>15.7400</td>\n",
       "      <td>1.191753</td>\n",
       "    </tr>\n",
       "    <tr>\n",
       "      <th>2288</th>\n",
       "      <td>5/14/2018</td>\n",
       "      <td>2730.129883</td>\n",
       "      <td>124.489998</td>\n",
       "      <td>14.3800</td>\n",
       "      <td>15.5600</td>\n",
       "      <td>1.193118</td>\n",
       "    </tr>\n",
       "    <tr>\n",
       "      <th>2289</th>\n",
       "      <td>5/16/2018</td>\n",
       "      <td>2725.780029</td>\n",
       "      <td>122.543800</td>\n",
       "      <td>14.4058</td>\n",
       "      <td>15.4542</td>\n",
       "      <td>1.182033</td>\n",
       "    </tr>\n",
       "  </tbody>\n",
       "</table>\n",
       "</div>"
      ],
      "text/plain": [
       "           Date          SPX         GLD      USO      SLV   EUR/USD\n",
       "2285   5/8/2018  2671.919922  124.589996  14.0600  15.5100  1.186789\n",
       "2286   5/9/2018  2697.790039  124.330002  14.3700  15.5300  1.184722\n",
       "2287  5/10/2018  2723.070068  125.180000  14.4100  15.7400  1.191753\n",
       "2288  5/14/2018  2730.129883  124.489998  14.3800  15.5600  1.193118\n",
       "2289  5/16/2018  2725.780029  122.543800  14.4058  15.4542  1.182033"
      ]
     },
     "execution_count": 4,
     "metadata": {},
     "output_type": "execute_result"
    }
   ],
   "source": [
    "goldprice_data.tail(5)"
   ]
  },
  {
   "cell_type": "code",
   "execution_count": 5,
   "id": "27844136",
   "metadata": {},
   "outputs": [
    {
     "data": {
      "text/html": [
       "<div>\n",
       "<style scoped>\n",
       "    .dataframe tbody tr th:only-of-type {\n",
       "        vertical-align: middle;\n",
       "    }\n",
       "\n",
       "    .dataframe tbody tr th {\n",
       "        vertical-align: top;\n",
       "    }\n",
       "\n",
       "    .dataframe thead th {\n",
       "        text-align: right;\n",
       "    }\n",
       "</style>\n",
       "<table border=\"1\" class=\"dataframe\">\n",
       "  <thead>\n",
       "    <tr style=\"text-align: right;\">\n",
       "      <th></th>\n",
       "      <th>SPX</th>\n",
       "      <th>GLD</th>\n",
       "      <th>USO</th>\n",
       "      <th>SLV</th>\n",
       "      <th>EUR/USD</th>\n",
       "    </tr>\n",
       "  </thead>\n",
       "  <tbody>\n",
       "    <tr>\n",
       "      <th>count</th>\n",
       "      <td>2290.000000</td>\n",
       "      <td>2290.000000</td>\n",
       "      <td>2290.000000</td>\n",
       "      <td>2290.000000</td>\n",
       "      <td>2290.000000</td>\n",
       "    </tr>\n",
       "    <tr>\n",
       "      <th>mean</th>\n",
       "      <td>1654.315776</td>\n",
       "      <td>122.732875</td>\n",
       "      <td>31.842221</td>\n",
       "      <td>20.084997</td>\n",
       "      <td>1.283653</td>\n",
       "    </tr>\n",
       "    <tr>\n",
       "      <th>std</th>\n",
       "      <td>519.111540</td>\n",
       "      <td>23.283346</td>\n",
       "      <td>19.523517</td>\n",
       "      <td>7.092566</td>\n",
       "      <td>0.131547</td>\n",
       "    </tr>\n",
       "    <tr>\n",
       "      <th>min</th>\n",
       "      <td>676.530029</td>\n",
       "      <td>70.000000</td>\n",
       "      <td>7.960000</td>\n",
       "      <td>8.850000</td>\n",
       "      <td>1.039047</td>\n",
       "    </tr>\n",
       "    <tr>\n",
       "      <th>25%</th>\n",
       "      <td>1239.874969</td>\n",
       "      <td>109.725000</td>\n",
       "      <td>14.380000</td>\n",
       "      <td>15.570000</td>\n",
       "      <td>1.171313</td>\n",
       "    </tr>\n",
       "    <tr>\n",
       "      <th>50%</th>\n",
       "      <td>1551.434998</td>\n",
       "      <td>120.580002</td>\n",
       "      <td>33.869999</td>\n",
       "      <td>17.268500</td>\n",
       "      <td>1.303297</td>\n",
       "    </tr>\n",
       "    <tr>\n",
       "      <th>75%</th>\n",
       "      <td>2073.010070</td>\n",
       "      <td>132.840004</td>\n",
       "      <td>37.827501</td>\n",
       "      <td>22.882500</td>\n",
       "      <td>1.369971</td>\n",
       "    </tr>\n",
       "    <tr>\n",
       "      <th>max</th>\n",
       "      <td>2872.870117</td>\n",
       "      <td>184.589996</td>\n",
       "      <td>117.480003</td>\n",
       "      <td>47.259998</td>\n",
       "      <td>1.598798</td>\n",
       "    </tr>\n",
       "  </tbody>\n",
       "</table>\n",
       "</div>"
      ],
      "text/plain": [
       "               SPX          GLD          USO          SLV      EUR/USD\n",
       "count  2290.000000  2290.000000  2290.000000  2290.000000  2290.000000\n",
       "mean   1654.315776   122.732875    31.842221    20.084997     1.283653\n",
       "std     519.111540    23.283346    19.523517     7.092566     0.131547\n",
       "min     676.530029    70.000000     7.960000     8.850000     1.039047\n",
       "25%    1239.874969   109.725000    14.380000    15.570000     1.171313\n",
       "50%    1551.434998   120.580002    33.869999    17.268500     1.303297\n",
       "75%    2073.010070   132.840004    37.827501    22.882500     1.369971\n",
       "max    2872.870117   184.589996   117.480003    47.259998     1.598798"
      ]
     },
     "execution_count": 5,
     "metadata": {},
     "output_type": "execute_result"
    }
   ],
   "source": [
    "goldprice_data.describe()"
   ]
  },
  {
   "cell_type": "code",
   "execution_count": 6,
   "id": "683dcf49",
   "metadata": {},
   "outputs": [
    {
     "data": {
      "text/plain": [
       "(2290, 6)"
      ]
     },
     "execution_count": 6,
     "metadata": {},
     "output_type": "execute_result"
    }
   ],
   "source": [
    "goldprice_data.shape"
   ]
  },
  {
   "cell_type": "code",
   "execution_count": 7,
   "id": "188a6c5d",
   "metadata": {},
   "outputs": [
    {
     "name": "stdout",
     "output_type": "stream",
     "text": [
      "<class 'pandas.core.frame.DataFrame'>\n",
      "RangeIndex: 2290 entries, 0 to 2289\n",
      "Data columns (total 6 columns):\n",
      " #   Column   Non-Null Count  Dtype  \n",
      "---  ------   --------------  -----  \n",
      " 0   Date     2290 non-null   object \n",
      " 1   SPX      2290 non-null   float64\n",
      " 2   GLD      2290 non-null   float64\n",
      " 3   USO      2290 non-null   float64\n",
      " 4   SLV      2290 non-null   float64\n",
      " 5   EUR/USD  2290 non-null   float64\n",
      "dtypes: float64(5), object(1)\n",
      "memory usage: 107.5+ KB\n"
     ]
    }
   ],
   "source": [
    "goldprice_data.info()"
   ]
  },
  {
   "cell_type": "markdown",
   "id": "f137471a",
   "metadata": {},
   "source": [
    "### no missing values\n",
    "\n",
    "### checking correlation "
   ]
  },
  {
   "cell_type": "code",
   "execution_count": 8,
   "id": "360bbc8f",
   "metadata": {},
   "outputs": [
    {
     "data": {
      "text/html": [
       "<div>\n",
       "<style scoped>\n",
       "    .dataframe tbody tr th:only-of-type {\n",
       "        vertical-align: middle;\n",
       "    }\n",
       "\n",
       "    .dataframe tbody tr th {\n",
       "        vertical-align: top;\n",
       "    }\n",
       "\n",
       "    .dataframe thead th {\n",
       "        text-align: right;\n",
       "    }\n",
       "</style>\n",
       "<table border=\"1\" class=\"dataframe\">\n",
       "  <thead>\n",
       "    <tr style=\"text-align: right;\">\n",
       "      <th></th>\n",
       "      <th>SPX</th>\n",
       "      <th>GLD</th>\n",
       "      <th>USO</th>\n",
       "      <th>SLV</th>\n",
       "      <th>EUR/USD</th>\n",
       "    </tr>\n",
       "  </thead>\n",
       "  <tbody>\n",
       "    <tr>\n",
       "      <th>SPX</th>\n",
       "      <td>1.000000</td>\n",
       "      <td>0.049345</td>\n",
       "      <td>-0.591573</td>\n",
       "      <td>-0.274055</td>\n",
       "      <td>-0.672017</td>\n",
       "    </tr>\n",
       "    <tr>\n",
       "      <th>GLD</th>\n",
       "      <td>0.049345</td>\n",
       "      <td>1.000000</td>\n",
       "      <td>-0.186360</td>\n",
       "      <td>0.866632</td>\n",
       "      <td>-0.024375</td>\n",
       "    </tr>\n",
       "    <tr>\n",
       "      <th>USO</th>\n",
       "      <td>-0.591573</td>\n",
       "      <td>-0.186360</td>\n",
       "      <td>1.000000</td>\n",
       "      <td>0.167547</td>\n",
       "      <td>0.829317</td>\n",
       "    </tr>\n",
       "    <tr>\n",
       "      <th>SLV</th>\n",
       "      <td>-0.274055</td>\n",
       "      <td>0.866632</td>\n",
       "      <td>0.167547</td>\n",
       "      <td>1.000000</td>\n",
       "      <td>0.321631</td>\n",
       "    </tr>\n",
       "    <tr>\n",
       "      <th>EUR/USD</th>\n",
       "      <td>-0.672017</td>\n",
       "      <td>-0.024375</td>\n",
       "      <td>0.829317</td>\n",
       "      <td>0.321631</td>\n",
       "      <td>1.000000</td>\n",
       "    </tr>\n",
       "  </tbody>\n",
       "</table>\n",
       "</div>"
      ],
      "text/plain": [
       "              SPX       GLD       USO       SLV   EUR/USD\n",
       "SPX      1.000000  0.049345 -0.591573 -0.274055 -0.672017\n",
       "GLD      0.049345  1.000000 -0.186360  0.866632 -0.024375\n",
       "USO     -0.591573 -0.186360  1.000000  0.167547  0.829317\n",
       "SLV     -0.274055  0.866632  0.167547  1.000000  0.321631\n",
       "EUR/USD -0.672017 -0.024375  0.829317  0.321631  1.000000"
      ]
     },
     "execution_count": 8,
     "metadata": {},
     "output_type": "execute_result"
    }
   ],
   "source": [
    "goldprice_data.corr()"
   ]
  },
  {
   "cell_type": "markdown",
   "id": "0f4c7607",
   "metadata": {},
   "source": [
    "#### Since gold (GLD) and silver (SLV) have a value of 0.866632, thus means they are positively correlated."
   ]
  },
  {
   "cell_type": "markdown",
   "id": "8808097f",
   "metadata": {},
   "source": [
    "### Heatmap for better visualization of the correlations"
   ]
  },
  {
   "cell_type": "code",
   "execution_count": 9,
   "id": "c09b57ab",
   "metadata": {},
   "outputs": [
    {
     "data": {
      "text/plain": [
       "<AxesSubplot:>"
      ]
     },
     "execution_count": 9,
     "metadata": {},
     "output_type": "execute_result"
    },
    {
     "data": {
      "image/png": "[encoded data removed]",
      "text/plain": [
       "<Figure size 936x504 with 2 Axes>"
      ]
     },
     "metadata": {
      "needs_background": "light"
     },
     "output_type": "display_data"
    }
   ],
   "source": [
    "plt.figure(figsize=(13,7))\n",
    "sns.heatmap(goldprice_data.corr(), cbar=True, annot=True,cmap='Oranges')"
   ]
  },
  {
   "cell_type": "markdown",
   "id": "3e775274",
   "metadata": {},
   "source": [
    "### Distribution of GLD price"
   ]
  },
  {
   "cell_type": "code",
   "execution_count": 10,
   "id": "2621ab3c",
   "metadata": {},
   "outputs": [
    {
     "data": {
      "text/plain": [
       "<seaborn.axisgrid.FacetGrid at 0x201e567a670>"
      ]
     },
     "execution_count": 10,
     "metadata": {},
     "output_type": "execute_result"
    },
    {
     "data": {
      "image/png": "[encoded data removed]",
      "text/plain": [
       "<Figure size 360x360 with 1 Axes>"
      ]
     },
     "metadata": {
      "needs_background": "light"
     },
     "output_type": "display_data"
    }
   ],
   "source": [
    "sns.displot(goldprice_data[\"GLD\"])"
   ]
  },
  {
   "cell_type": "markdown",
   "id": "dd0275e6",
   "metadata": {},
   "source": [
    "### We will be using SPX, USO, SLV and EUR/USD features and their correlation to GLD to predict GLD price."
   ]
  },
  {
   "cell_type": "code",
   "execution_count": 11,
   "id": "9ce5355d",
   "metadata": {},
   "outputs": [],
   "source": [
    "from sklearn.model_selection import train_test_split\n",
    "from sklearn.ensemble import RandomForestRegressor"
   ]
  },
  {
   "cell_type": "markdown",
   "id": "edbc6790",
   "metadata": {},
   "source": [
    "#### Splitting Features "
   ]
  },
  {
   "cell_type": "code",
   "execution_count": 12,
   "id": "a9682efb",
   "metadata": {},
   "outputs": [],
   "source": [
    "# to use SPX, USO, SLV & EUR/USD features, we drop the other columns\n",
    "X = goldprice_data.drop(['Date', 'GLD'], axis = 1)\n",
    "\n",
    "# GLD is the target column\n",
    "Y = goldprice_data['GLD']"
   ]
  },
  {
   "cell_type": "markdown",
   "id": "fbda0da9",
   "metadata": {},
   "source": [
    "#### Training & testing data"
   ]
  },
  {
   "cell_type": "code",
   "execution_count": 13,
   "id": "c73284d1",
   "metadata": {},
   "outputs": [],
   "source": [
    "# Testing 18% of the data, training 82%\n",
    "X_train, X_test, Y_train, Y_test = train_test_split(X, Y, test_size = 0.18, random_state = 0)"
   ]
  },
  {
   "cell_type": "code",
   "execution_count": 14,
   "id": "8ebdd584",
   "metadata": {},
   "outputs": [
    {
     "data": {
      "text/plain": [
       "RandomForestRegressor()"
      ]
     },
     "execution_count": 14,
     "metadata": {},
     "output_type": "execute_result"
    }
   ],
   "source": [
    "# Train model using Random Forest \n",
    "regressor = RandomForestRegressor(n_estimators=100)\n",
    "regressor.fit(X_train, Y_train)"
   ]
  },
  {
   "cell_type": "markdown",
   "id": "1424d729",
   "metadata": {},
   "source": [
    "### Evaluating Model"
   ]
  },
  {
   "cell_type": "code",
   "execution_count": 15,
   "id": "059197b7",
   "metadata": {},
   "outputs": [],
   "source": [
    "# Predicting gold prices\n",
    "\n",
    "testdata_predict = regressor.predict(X_test)"
   ]
  },
  {
   "cell_type": "code",
   "execution_count": 16,
   "id": "f83cafe0",
   "metadata": {},
   "outputs": [
    {
     "name": "stdout",
     "output_type": "stream",
     "text": [
      "[126.96919906 116.68449947 139.65139987 122.13060034  94.14090055\n",
      " 155.05750054 117.51020114 113.31870124 153.43640022 105.43050041\n",
      " 103.11519866 120.15970102  92.16089942 159.66320135 121.55209838\n",
      " 117.46200085  86.43109792  91.88809926  92.89110008 126.15080004\n",
      "  83.61789943 117.80679876 126.276298   172.32349785 168.82659738\n",
      " 139.41300203 114.37239966 159.89190189 134.30100125 116.03680038\n",
      " 111.14840107 104.7806019  127.95360089 122.15429948  99.30529963\n",
      " 119.99699988  84.43300016 114.94770001 127.4169986  140.27399884\n",
      " 107.16770062 131.57620124 108.37089926 134.87770041 133.64679889\n",
      " 148.86219954 119.66220043 157.7051006  156.05420046 127.6174995\n",
      " 123.98979983 115.11349867 123.71940022 118.86869995 153.73290035\n",
      " 121.56039934 112.42530006  86.92959979 155.60850059 118.17500082\n",
      "  88.32869966 114.77240032  83.07479916 146.89139892 125.38439976\n",
      " 127.25699933 125.05149935 121.20389991 168.14730139 121.89509907\n",
      " 125.63610186 172.72939822 121.58220131 170.27310221 119.02900071\n",
      " 127.50849928 154.27179898 108.21759781 114.59859921 160.05239854\n",
      " 119.69100069 125.71819856 117.60179936 123.0396     112.08680085\n",
      " 160.77819966 114.5937995  113.67899983 125.62089825  96.09419976\n",
      " 113.60749979 114.06150107  80.86899889 159.82309905 125.66669988\n",
      " 118.69740135  92.02939987 104.65610164 140.9401018   92.18089874\n",
      " 155.31530354 122.30529996 123.78079965 115.21369946  87.85330052\n",
      " 130.31860057 125.48170029 167.35100199 108.05139965 165.97439835\n",
      " 103.99139988 139.49129882 115.58320115 119.8516005   93.62399967\n",
      " 166.34710172 113.49230004 108.89449929  82.84389996 109.81369938\n",
      " 155.32900094  90.64649975  74.78990117 121.69899957 103.01059999\n",
      " 117.22659928 121.49780027 134.53100104 119.65820003 105.87709976\n",
      " 107.3569987  112.7497995   93.41859935 122.83069899 119.07999945\n",
      " 112.80760107  73.81620009 126.65199991  81.61919957 115.31889959\n",
      " 116.74299923 153.53630362 138.91759926 115.18290018 165.75780086\n",
      " 131.92690223 124.60870053 118.79040139 124.50133704 122.0024009\n",
      " 161.06569937 107.03540095 116.88929951  87.39649924 123.50370075\n",
      " 112.0471002   85.40359926 113.19069987 117.36350048  86.50559969\n",
      " 132.21129914 146.66519967 135.41940449 115.73029971 128.018101\n",
      " 118.72100072 100.21150074 117.18400099 115.0657012  118.79029877\n",
      " 155.87500198 122.20499939  90.38190008 120.97450081 105.31769978\n",
      " 121.7093283  106.32519907 107.11260106 120.91889892 125.08880017\n",
      "  88.32159848 172.89109886 120.61510132 118.29080142 163.76319803\n",
      " 119.95320184 110.40069872 128.32090022 131.82970088 120.40569939\n",
      " 118.59620048 140.12600299 148.94190019 116.77610002 159.4910035\n",
      " 135.56459961 124.44699983 124.73719878 180.4388967  119.72610173\n",
      " 162.91350377 105.56920145 132.22560122  92.75909946  97.43649819\n",
      "  90.53670052 106.25580045 112.5232003  163.00889931 160.91479898\n",
      " 153.72890322 113.25040099 116.94280161 118.93100128 120.18130014\n",
      "  91.62830133 102.22420003 154.67769935 109.20289828 102.6772993\n",
      " 155.35530019  76.19949966 121.0557012  168.83389693 115.86279947\n",
      " 143.73430116 155.18199997 139.57349952 154.21909823 131.39550358\n",
      " 130.65599942 124.18750027 116.06890126 135.33339788 163.78990044\n",
      " 154.25950099 126.98440122 160.93289909 130.31000056 109.0448987\n",
      " 166.54440104 117.82269839  84.41449919 163.65780208 153.33440001\n",
      " 116.42720166 129.75710026  91.8954999   90.83530077 112.72499931\n",
      "  87.96690017 115.08289946 119.47100046 151.70379944 117.00969868\n",
      " 106.70040114 117.48759895 139.54539826 110.89219984 122.48119918\n",
      "  83.94579911 125.21459987 125.77650072 168.87600137 126.85189839\n",
      " 142.82159783 117.39030151 167.89480052 106.56359951 173.99350012\n",
      " 109.78429814 114.89720179  88.3533989  125.42940012 117.46410037\n",
      " 153.34100332 162.03949842  80.42819924 105.01829937 110.49489958\n",
      " 110.98429855 107.96950046 117.68870094  89.48419975  88.02399889\n",
      "  84.67660007 137.65889753 127.3264002  120.07410118  95.96740064\n",
      " 109.43739825  78.83529936  72.74110176 119.35170088 118.38280074\n",
      "  89.50669953 111.47920156 117.68769927 118.41400088 124.17870023\n",
      " 146.01029922  88.0895994  129.37339879 117.24570044 154.8987024\n",
      " 108.0253988  145.20020236 124.73479874 116.1022002  113.75409858\n",
      " 125.13919992 135.41939999 141.52269885 117.34560026 128.16339906\n",
      "  93.67379803 114.44999965  89.59809948  89.44900101 106.38150073\n",
      " 132.22810145 153.2816983  161.39780221 118.72370033 103.68330007\n",
      " 101.55329984 150.23509759 152.65669757 106.38930079 138.09900134\n",
      " 119.24979921 126.40279839  87.8219007  173.9449995  117.82729827\n",
      " 138.92050234 114.85269983  85.86220001 121.40289856 136.22010096\n",
      " 117.39760009 141.14759921 118.79580082 165.45490139 121.30910054\n",
      " 122.91939839 121.0891982  126.72710118  87.83830035 146.3926025\n",
      " 113.98320017 111.22780001 113.74090074 155.59230272  93.12340092\n",
      "  92.6558998  119.68330061 156.3135031  119.05140102 155.7798038\n",
      " 126.40320013 161.40069737 123.8686004  131.60170129 123.73039955\n",
      "  74.55130022  94.49410031  89.91369971 121.0158018  112.84350085\n",
      " 117.71540016 108.26610046 125.9479     126.38120136 122.25100003\n",
      " 120.77819923 103.77829931 109.67929832 110.60150103 149.24940506\n",
      " 126.02179821 152.78920146 125.79510119 142.4472001  141.17070038\n",
      " 108.57969908 109.7351977  128.56690269 107.58979938 116.47519944\n",
      " 120.72560044 144.00380033  93.66449973 104.22330012 128.11890228\n",
      " 124.63889931 163.26539972 121.41379999 149.07620458 110.81229886\n",
      " 125.2050005   89.05589983  81.06599884 127.5182984  125.91750078\n",
      " 150.81660326 119.91229884 127.52209871  86.60589936 125.15209954\n",
      " 118.58849963 115.55999839 102.00679936]\n"
     ]
    }
   ],
   "source": [
    "print(testdata_predict)"
   ]
  },
  {
   "cell_type": "markdown",
   "id": "817aa488",
   "metadata": {},
   "source": [
    "### Comparing Predicted GLD Price values with the actual GLD Price values"
   ]
  },
  {
   "cell_type": "markdown",
   "id": "73490b2c",
   "metadata": {},
   "source": [
    "#### Plotting Actual Values and Predicted Values"
   ]
  },
  {
   "cell_type": "code",
   "execution_count": 17,
   "id": "66b1256e",
   "metadata": {},
   "outputs": [
    {
     "data": {
      "image/png": "[encoded data removed]",
      "text/plain": [
       "<Figure size 432x288 with 1 Axes>"
      ]
     },
     "metadata": {
      "needs_background": "light"
     },
     "output_type": "display_data"
    }
   ],
   "source": [
    "plt.plot(list(Y_test), color=\"DarkRed\", label ='Actual Value')\n",
    "plt.plot(testdata_predict, color='lightPink',label='Predicted Value')\n",
    "plt.title('Actual Price vs Predicted Price of Gold')\n",
    "plt.xlabel('Number of Values')\n",
    "plt.ylabel('Price of Gold')\n",
    "plt.legend()\n",
    "plt.show()"
   ]
  },
  {
   "cell_type": "code",
   "execution_count": 18,
   "id": "98705111",
   "metadata": {},
   "outputs": [
    {
     "name": "stdout",
     "output_type": "stream",
     "text": [
      "99.85\n"
     ]
    }
   ],
   "source": [
    "# Mean Accuracy\n",
    "model_result = round(regressor.score(X_train, Y_train)*100,2)\n",
    "\n",
    "print(model_result)"
   ]
  }
 ],
 "metadata": {
  "kernelspec": {
   "display_name": "Python 3 (ipykernel)",
   "language": "python",
   "name": "python3"
  },
  "language_info": {
   "codemirror_mode": {
    "name": "ipython",
    "version": 3
   },
   "file_extension": ".py",
   "mimetype": "text/x-python",
   "name": "python",
   "nbconvert_exporter": "python",
   "pygments_lexer": "ipython3",
   "version": "3.9.7"
  }
 },
 "nbformat": 4,
 "nbformat_minor": 5
}
